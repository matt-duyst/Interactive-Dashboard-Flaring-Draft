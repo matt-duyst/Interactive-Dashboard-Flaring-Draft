{
  "nbformat": 4,
  "nbformat_minor": 0,
  "metadata": {
    "colab": {
      "provenance": []
    },
    "kernelspec": {
      "name": "python3",
      "display_name": "Python 3"
    },
    "language_info": {
      "name": "python"
    }
  },
  "cells": [
    {
      "cell_type": "code",
      "execution_count": null,
      "metadata": {
        "id": "41XoPAC1SLRX"
      },
      "outputs": [],
      "source": [
        "# Import Packages\n",
        "\n",
        "import numpy as np\n",
        "import pandas as pd\n",
        "import matplotlib.pyplot as plt\n",
        "import seaborn as sns\n",
        "import plotly.express as px\n",
        "!pip install dash dash-bootstrap-components jupyter-dash\n",
        "from jupyter_dash import JupyterDash\n",
        "import dash_core_components as dcc\n",
        "import dash_html_components as html\n",
        "from dash.dependencies import Input, Output\n",
        "import plotly.express as px"
      ]
    },
    {
      "cell_type": "code",
      "source": [
        "# Mount Google Drive\n",
        "\n",
        "from google.colab import drive\n",
        "drive.mount('/content/drive')"
      ],
      "metadata": {
        "colab": {
          "base_uri": "https://localhost:8080/"
        },
        "id": "iWy1_MD-SMZR",
        "outputId": "5899df55-d9ce-4b75-d453-d546c65df7d2"
      },
      "execution_count": 15,
      "outputs": [
        {
          "output_type": "stream",
          "name": "stdout",
          "text": [
            "Drive already mounted at /content/drive; to attempt to forcibly remount, call drive.mount(\"/content/drive\", force_remount=True).\n"
          ]
        }
      ]
    },
    {
      "cell_type": "code",
      "source": [
        "# Define Folder Path\n",
        "\n",
        "folder_path = '/content/drive/My Drive/SeekOps/Flaring_Draft/'\n",
        "\n",
        "# Load Data\n",
        "\n",
        "combined_tables= pd.read_csv(f'{folder_path}Combined_Tables.csv')"
      ],
      "metadata": {
        "id": "gcYzBO79SMW6"
      },
      "execution_count": 16,
      "outputs": []
    },
    {
      "cell_type": "code",
      "source": [
        "# Create a Dash application:\n",
        "if 'app' not in globals():\n",
        "    app = JupyterDash(__name__)\n",
        "\n",
        "    # Define the layout of the app\n",
        "    app.layout = html.Div([\n",
        "        dcc.Dropdown(\n",
        "            id='survey-dropdown',\n",
        "            options=[{'label': code, 'value': code} for code in combined_tables['Data Reference Code'].unique()],\n",
        "            value=combined_tables['Data Reference Code'].unique()[0],\n",
        "            clearable=False\n",
        "        ),\n",
        "        html.Div(id='data-table'),\n",
        "        dcc.Graph(id='map')\n",
        "    ])\n",
        "\n",
        "    @app.callback(\n",
        "        [Output('data-table', 'children'),\n",
        "         Output('map', 'figure')],\n",
        "        [Input('survey-dropdown', 'value')]\n",
        "    )\n",
        "    def update_dashboard(selected_code):\n",
        "        # Filter data based on the selected survey code\n",
        "        filtered_data = combined_tables[combined_tables['Data Reference Code'] == selected_code]\n",
        "\n",
        "        # Define columns to display in the table (excluding 'Data Reference Code', 'Lat', and 'Lon')\n",
        "        display_columns = [col for col in filtered_data.columns if col not in ['Data Reference Code', 'Lat', 'Lon']]\n",
        "\n",
        "        # Create data table excluding 'Data Reference Code' with centered values\n",
        "        table = html.Table([\n",
        "            html.Thead(html.Tr([html.Th(col, style={'text-align': 'center'}) for col in display_columns])),\n",
        "            html.Tbody([html.Tr([html.Td(filtered_data.iloc[0][col], style={'text-align': 'center'}) for col in display_columns])])\n",
        "        ], style={'width': '100%', 'margin': 'auto'})\n",
        "\n",
        "        # Create map with adjusted layout to remove white border\n",
        "        fig = px.scatter_mapbox(\n",
        "            filtered_data, lat='Lat', lon='Lon', zoom=10,\n",
        "            mapbox_style='open-street-map'  # Change to 'satellite' for satellite view\n",
        "        )\n",
        "        fig.update_layout(\n",
        "            margin={\"r\":0, \"t\":0, \"l\":0, \"b\":0}  # Removes default margins\n",
        "        )\n",
        "\n",
        "        return table, fig\n",
        "\n",
        "    # Run the app in external mode\n",
        "    app.run_server(mode='external')\n"
      ],
      "metadata": {
        "colab": {
          "base_uri": "https://localhost:8080/",
          "height": 795
        },
        "id": "4lA5ST8-SMUC",
        "outputId": "b8647b32-982e-463a-e0df-19fb3ae12826"
      },
      "execution_count": 4,
      "outputs": [
        {
          "output_type": "stream",
          "name": "stderr",
          "text": [
            "/usr/local/lib/python3.10/dist-packages/dash/dash.py:538: UserWarning:\n",
            "\n",
            "JupyterDash is deprecated, use Dash instead.\n",
            "See https://dash.plotly.com/dash-in-jupyter for more details.\n",
            "\n"
          ]
        },
        {
          "output_type": "display_data",
          "data": {
            "text/plain": [
              "<IPython.core.display.Javascript object>"
            ],
            "application/javascript": [
              "(async (port, path, width, height, cache, element) => {\n",
              "    if (!google.colab.kernel.accessAllowed && !cache) {\n",
              "      return;\n",
              "    }\n",
              "    element.appendChild(document.createTextNode(''));\n",
              "    const url = await google.colab.kernel.proxyPort(port, {cache});\n",
              "    const iframe = document.createElement('iframe');\n",
              "    iframe.src = new URL(path, url).toString();\n",
              "    iframe.height = height;\n",
              "    iframe.width = width;\n",
              "    iframe.style.border = 0;\n",
              "    iframe.allow = [\n",
              "        'accelerometer',\n",
              "        'autoplay',\n",
              "        'camera',\n",
              "        'clipboard-read',\n",
              "        'clipboard-write',\n",
              "        'gyroscope',\n",
              "        'magnetometer',\n",
              "        'microphone',\n",
              "        'serial',\n",
              "        'usb',\n",
              "        'xr-spatial-tracking',\n",
              "    ].join('; ');\n",
              "    element.appendChild(iframe);\n",
              "  })(8050, \"/\", \"100%\", 650, false, window.element)"
            ]
          },
          "metadata": {}
        },
        {
          "output_type": "stream",
          "name": "stdout",
          "text": [
            "Dash app running on:\n"
          ]
        },
        {
          "output_type": "display_data",
          "data": {
            "text/plain": [
              "<IPython.core.display.Javascript object>"
            ],
            "application/javascript": [
              "(async (port, path, text, element) => {\n",
              "    if (!google.colab.kernel.accessAllowed) {\n",
              "      return;\n",
              "    }\n",
              "    element.appendChild(document.createTextNode(''));\n",
              "    const url = await google.colab.kernel.proxyPort(port);\n",
              "    const anchor = document.createElement('a');\n",
              "    anchor.href = new URL(path, url).toString();\n",
              "    anchor.target = '_blank';\n",
              "    anchor.setAttribute('data-href', url + path);\n",
              "    anchor.textContent = text;\n",
              "    element.appendChild(anchor);\n",
              "  })(8050, \"/\", \"http://127.0.0.1:8050/\", window.element)"
            ]
          },
          "metadata": {}
        }
      ]
    }
  ]
}